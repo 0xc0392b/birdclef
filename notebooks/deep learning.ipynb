{
 "cells": [
  {
   "cell_type": "code",
   "execution_count": 9,
   "id": "f1d132b6",
   "metadata": {},
   "outputs": [],
   "source": [
    "import torch\n",
    "import numpy as np\n",
    "\n",
    "from torch.utils.data import Dataset as TorchDataset\n",
    "from torch.utils.data import DataLoader as TorchDataLoader\n",
    "\n",
    "from birdclef import Dataset, PeakPreprocessor"
   ]
  },
  {
   "cell_type": "code",
   "execution_count": 10,
   "id": "d2243264",
   "metadata": {},
   "outputs": [],
   "source": [
    "class PeaksDataset(TorchDataset):\n",
    "    def __init__(self, file_path, dataset):\n",
    "        self._file_path = file_path\n",
    "        self._dataset = dataset\n",
    "\n",
    "    def __len__(self):\n",
    "        return len(self._dataset)\n",
    "\n",
    "    def __getitem__(self, idx):\n",
    "        sample = self._dataset[idx]\n",
    "\n",
    "        path = f\"{self._file_path}/{sample.audio_file_name}.npy\"\n",
    "\n",
    "        str_label = sample.label\n",
    "        int_label = self._dataset.label_to_number(str_label)\n",
    "\n",
    "        with open(path, \"rt\") as infile:\n",
    "            freq = 0\n",
    "            db = 0\n",
    "\n",
    "            tensor = torch.from_numpy(np.array([freq, db]))\n",
    "            return tensor, int_label"
   ]
  },
  {
   "cell_type": "code",
   "execution_count": 11,
   "id": "dd00b062",
   "metadata": {},
   "outputs": [],
   "source": [
    "dataset = Dataset.load(Dataset.PATH)\n",
    "training_data = SpectrogramDataset(PeakPreprocessor.PATH, dataset)\n",
    "train_dataloader = TorchDataLoader(training_data, batch_size=64, shuffle=True)"
   ]
  },
  {
   "cell_type": "code",
   "execution_count": 12,
   "id": "6bfef3c9",
   "metadata": {},
   "outputs": [],
   "source": [
    "train_features, train_labels = next(iter(train_dataloader))"
   ]
  },
  {
   "cell_type": "code",
   "execution_count": 13,
   "id": "050b34b3",
   "metadata": {},
   "outputs": [
    {
     "data": {
      "text/plain": [
       "(torch.Size([64, 1025, 100]), torch.Size([64]))"
      ]
     },
     "execution_count": 13,
     "metadata": {},
     "output_type": "execute_result"
    }
   ],
   "source": [
    "train_features.size(), train_labels.size()"
   ]
  },
  {
   "cell_type": "code",
   "execution_count": null,
   "id": "09588ddd",
   "metadata": {},
   "outputs": [],
   "source": []
  },
  {
   "cell_type": "code",
   "execution_count": null,
   "id": "e933f6d0",
   "metadata": {},
   "outputs": [],
   "source": []
  },
  {
   "cell_type": "code",
   "execution_count": null,
   "id": "d0018d3e",
   "metadata": {},
   "outputs": [],
   "source": []
  },
  {
   "cell_type": "code",
   "execution_count": null,
   "id": "d1151717",
   "metadata": {},
   "outputs": [],
   "source": []
  },
  {
   "cell_type": "code",
   "execution_count": null,
   "id": "c28ee5de",
   "metadata": {},
   "outputs": [],
   "source": []
  },
  {
   "cell_type": "code",
   "execution_count": null,
   "id": "aadf5f0a",
   "metadata": {},
   "outputs": [],
   "source": []
  },
  {
   "cell_type": "code",
   "execution_count": null,
   "id": "0dd61a8f",
   "metadata": {},
   "outputs": [],
   "source": []
  },
  {
   "cell_type": "code",
   "execution_count": null,
   "id": "fc7d7e98",
   "metadata": {},
   "outputs": [],
   "source": []
  }
 ],
 "metadata": {
  "kernelspec": {
   "display_name": "Python 3 (ipykernel)",
   "language": "python",
   "name": "python3"
  },
  "language_info": {
   "codemirror_mode": {
    "name": "ipython",
    "version": 3
   },
   "file_extension": ".py",
   "mimetype": "text/x-python",
   "name": "python",
   "nbconvert_exporter": "python",
   "pygments_lexer": "ipython3",
   "version": "3.9.0"
  }
 },
 "nbformat": 4,
 "nbformat_minor": 5
}
